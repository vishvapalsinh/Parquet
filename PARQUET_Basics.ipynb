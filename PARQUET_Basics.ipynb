{
 "cells": [
  {
   "cell_type": "code",
   "execution_count": 2,
   "id": "34e5dab4",
   "metadata": {},
   "outputs": [],
   "source": [
    "# Import the necessary functions from the modular files\n",
    "from read_parquet import read_parquet_file, display_data\n",
    "from write_parquet import create_dataframe, write_parquet_file\n",
    "from convert_formats import convert_csv_to_parquet, convert_parquet_to_csv\n",
    "from merge_parquet import merge_parquet_files\n",
    "from data_analysis import perform_data_analysis\n",
    "from query_parquet import query_and_filter_data"
   ]
  },
  {
   "cell_type": "code",
   "execution_count": 3,
   "id": "e4673dd2",
   "metadata": {},
   "outputs": [],
   "source": [
    "# File paths or filenames\n",
    "parquet_file = 'files/sample.parquet'\n",
    "csv_file = 'files/sample.csv'\n",
    "output_parquet_file = 'files/output.parquet'\n",
    "output_csv_file = 'files/output.csv'\n",
    "file1 = 'files/file1.parquet'\n",
    "file2 = 'files/file2.parquet'\n",
    "merged_file = 'files/merged_file.parquet'"
   ]
  },
  {
   "cell_type": "code",
   "execution_count": 4,
   "id": "4d8c4bd3",
   "metadata": {},
   "outputs": [
    {
     "name": "stdout",
     "output_type": "stream",
     "text": [
      "    registration_dttm  id first_name last_name                     email  \\\n",
      "0 2016-02-03 07:55:29   1     Amanda    Jordan          ajordan0@com.com   \n",
      "1 2016-02-03 17:04:03   2     Albert   Freeman           afreeman1@is.gd   \n",
      "2 2016-02-03 01:09:31   3     Evelyn    Morgan   emorgan2@altervista.org   \n",
      "3 2016-02-03 00:36:21   4     Denise     Riley          driley3@gmpg.org   \n",
      "4 2016-02-03 05:05:31   5     Carlos     Burns  cburns4@miitbeian.gov.cn   \n",
      "\n",
      "   gender      ip_address                cc       country  birthdate  \\\n",
      "0  Female     1.197.201.2  6759521864920116     Indonesia   3/8/1971   \n",
      "1    Male  218.111.175.34                          Canada  1/16/1968   \n",
      "2  Female    7.161.136.94  6767119071901597        Russia   2/1/1960   \n",
      "3  Female   140.35.109.83  3576031598965625         China   4/8/1997   \n",
      "4          169.113.235.40  5602256255204850  South Africa              \n",
      "\n",
      "      salary                   title comments  \n",
      "0   49756.53        Internal Auditor    1E+02  \n",
      "1  150280.17           Accountant IV           \n",
      "2  144972.51     Structural Engineer           \n",
      "3   90263.05  Senior Cost Accountant           \n",
      "4        NaN                                   \n"
     ]
    }
   ],
   "source": [
    "# Reading and displaying Parquet data\n",
    "df = read_parquet_file(parquet_file)\n",
    "display_data(df)"
   ]
  },
  {
   "cell_type": "code",
   "execution_count": 5,
   "id": "38640246",
   "metadata": {},
   "outputs": [],
   "source": [
    "# Writing data to a Parquet file\n",
    "df = create_dataframe()\n",
    "write_parquet_file(df, output_parquet_file)"
   ]
  },
  {
   "cell_type": "code",
   "execution_count": 6,
   "id": "f453dd98",
   "metadata": {},
   "outputs": [],
   "source": [
    "# Converting data between different formats\n",
    "convert_csv_to_parquet(csv_file, output_parquet_file)\n",
    "convert_parquet_to_csv(parquet_file, output_csv_file)"
   ]
  },
  {
   "cell_type": "code",
   "execution_count": 7,
   "id": "ad783209",
   "metadata": {},
   "outputs": [],
   "source": [
    "# Merging or appending Parquet files\n",
    "merge_parquet_files(file1, file2, merged_file)"
   ]
  },
  {
   "cell_type": "code",
   "execution_count": 9,
   "id": "7893889d",
   "metadata": {},
   "outputs": [
    {
     "name": "stdout",
     "output_type": "stream",
     "text": [
      "Mean salary: 149005.35665236053\n",
      "      registration_dttm    id first_name last_name                    email  \\\n",
      "1   2016-02-03 17:04:03     2     Albert   Freeman          afreeman1@is.gd   \n",
      "2   2016-02-03 01:09:31     3     Evelyn    Morgan  emorgan2@altervista.org   \n",
      "3   2016-02-03 00:36:21     4     Denise     Riley         driley3@gmpg.org   \n",
      "5   2016-02-03 07:22:34     6    Kathryn     White       kwhite5@google.com   \n",
      "7   2016-02-03 06:47:06     8      Harry    Howell      hhowell7@eepurl.com   \n",
      "..                  ...   ...        ...       ...                      ...   \n",
      "993 2016-02-03 01:14:13   994      Carol  Williams     cwilliamsrl@army.mil   \n",
      "994 2016-02-03 00:18:26   995       Jose     Mccoy      jmccoyrm@elpais.com   \n",
      "995 2016-02-03 10:30:59   996     Dennis    Harris     dharrisrn@eepurl.com   \n",
      "996 2016-02-03 17:16:53   997     Gloria  Hamilton   ghamiltonro@rambler.ru   \n",
      "999 2016-02-03 09:52:18  1000      Julie     Meyer      jmeyerrr@flavors.me   \n",
      "\n",
      "     gender       ip_address                  cc                 country  \\\n",
      "1      Male   218.111.175.34                                      Canada   \n",
      "2    Female     7.161.136.94    6767119071901597                  Russia   \n",
      "3    Female    140.35.109.83    3576031598965625                   China   \n",
      "5    Female   195.131.81.179    3583136326049310               Indonesia   \n",
      "7      Male     91.235.51.73                      Bosnia and Herzegovina   \n",
      "..      ...              ...                 ...                     ...   \n",
      "993  Female     53.242.60.20                                      France   \n",
      "994    Male    117.37.215.98  560222933605513180                  Norway   \n",
      "995    Male  178.180.111.236     374288806662929                  Greece   \n",
      "996  Female     71.50.39.137                                       China   \n",
      "999  Female    217.1.147.132     374288099198540                   China   \n",
      "\n",
      "     birthdate     salary                   title comments  \n",
      "1    1/16/1968  150280.17           Accountant IV           \n",
      "2     2/1/1960  144972.51     Structural Engineer           \n",
      "3     4/8/1997   90263.05  Senior Cost Accountant           \n",
      "5    2/25/1983   69227.11       Account Executive           \n",
      "7     3/1/1962  186469.43        Web Developer IV           \n",
      "..         ...        ...                     ...      ...  \n",
      "993   1/5/1988  120933.54               Recruiter           \n",
      "994  7/30/1987  275898.37        Graphic Designer           \n",
      "995   7/8/1965  263399.54                  Editor           \n",
      "996  4/22/1975   83183.54   VP Product Management           \n",
      "999             222561.13                                   \n",
      "\n",
      "[798 rows x 13 columns]\n"
     ]
    }
   ],
   "source": [
    "# Performing data analysis\n",
    "mean_salary, filtered_df = perform_data_analysis(parquet_file)\n",
    "print('Mean salary:', mean_salary)\n",
    "print(filtered_df)"
   ]
  },
  {
   "cell_type": "code",
   "execution_count": 10,
   "id": "f1a2fe2a",
   "metadata": {},
   "outputs": [
    {
     "name": "stdout",
     "output_type": "stream",
     "text": [
      "      registration_dttm    id first_name last_name                    email  \\\n",
      "1   2016-02-03 17:04:03     2     Albert   Freeman          afreeman1@is.gd   \n",
      "2   2016-02-03 01:09:31     3     Evelyn    Morgan  emorgan2@altervista.org   \n",
      "3   2016-02-03 00:36:21     4     Denise     Riley         driley3@gmpg.org   \n",
      "5   2016-02-03 07:22:34     6    Kathryn     White       kwhite5@google.com   \n",
      "7   2016-02-03 06:47:06     8      Harry    Howell      hhowell7@eepurl.com   \n",
      "..                  ...   ...        ...       ...                      ...   \n",
      "993 2016-02-03 01:14:13   994      Carol  Williams     cwilliamsrl@army.mil   \n",
      "994 2016-02-03 00:18:26   995       Jose     Mccoy      jmccoyrm@elpais.com   \n",
      "995 2016-02-03 10:30:59   996     Dennis    Harris     dharrisrn@eepurl.com   \n",
      "996 2016-02-03 17:16:53   997     Gloria  Hamilton   ghamiltonro@rambler.ru   \n",
      "999 2016-02-03 09:52:18  1000      Julie     Meyer      jmeyerrr@flavors.me   \n",
      "\n",
      "     gender       ip_address                  cc                 country  \\\n",
      "1      Male   218.111.175.34                                      Canada   \n",
      "2    Female     7.161.136.94    6767119071901597                  Russia   \n",
      "3    Female    140.35.109.83    3576031598965625                   China   \n",
      "5    Female   195.131.81.179    3583136326049310               Indonesia   \n",
      "7      Male     91.235.51.73                      Bosnia and Herzegovina   \n",
      "..      ...              ...                 ...                     ...   \n",
      "993  Female     53.242.60.20                                      France   \n",
      "994    Male    117.37.215.98  560222933605513180                  Norway   \n",
      "995    Male  178.180.111.236     374288806662929                  Greece   \n",
      "996  Female     71.50.39.137                                       China   \n",
      "999  Female    217.1.147.132     374288099198540                   China   \n",
      "\n",
      "     birthdate     salary                   title comments  \n",
      "1    1/16/1968  150280.17           Accountant IV           \n",
      "2     2/1/1960  144972.51     Structural Engineer           \n",
      "3     4/8/1997   90263.05  Senior Cost Accountant           \n",
      "5    2/25/1983   69227.11       Account Executive           \n",
      "7     3/1/1962  186469.43        Web Developer IV           \n",
      "..         ...        ...                     ...      ...  \n",
      "993   1/5/1988  120933.54               Recruiter           \n",
      "994  7/30/1987  275898.37        Graphic Designer           \n",
      "995   7/8/1965  263399.54                  Editor           \n",
      "996  4/22/1975   83183.54   VP Product Management           \n",
      "999             222561.13                                   \n",
      "\n",
      "[798 rows x 13 columns]\n"
     ]
    }
   ],
   "source": [
    "# Querying and filtering Parquet data\n",
    "filtered_df = query_and_filter_data(parquet_file, 'salary > 50000')\n",
    "print(filtered_df)"
   ]
  },
  {
   "cell_type": "code",
   "execution_count": null,
   "id": "25959cc1",
   "metadata": {},
   "outputs": [],
   "source": []
  }
 ],
 "metadata": {
  "kernelspec": {
   "display_name": "Python 3 (ipykernel)",
   "language": "python",
   "name": "python3"
  },
  "language_info": {
   "codemirror_mode": {
    "name": "ipython",
    "version": 3
   },
   "file_extension": ".py",
   "mimetype": "text/x-python",
   "name": "python",
   "nbconvert_exporter": "python",
   "pygments_lexer": "ipython3",
   "version": "3.9.13"
  }
 },
 "nbformat": 4,
 "nbformat_minor": 5
}
